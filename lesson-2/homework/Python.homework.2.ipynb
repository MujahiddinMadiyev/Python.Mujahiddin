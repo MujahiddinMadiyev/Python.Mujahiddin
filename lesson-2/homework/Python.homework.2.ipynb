{
 "cells": [
  {
   "cell_type": "markdown",
   "id": "2355881d",
   "metadata": {},
   "source": [
    "# Homework Exercises"
   ]
  },
  {
   "cell_type": "markdown",
   "id": "8ae769f0",
   "metadata": {},
   "source": [
    "### 1. Age Calculatoror"
   ]
  },
  {
   "cell_type": "code",
   "execution_count": 4,
   "id": "27fa2b9d",
   "metadata": {},
   "outputs": [
    {
     "name": "stdout",
     "output_type": "stream",
     "text": [
      "Hello, Mujahiddin.\n",
      "You are 26 years old.\n"
     ]
    }
   ],
   "source": [
    "name = input(\"Enter your name: \")\n",
    "birth_year = int(input(\"Enter your year of birth: \"))\n",
    "\n",
    "current_year = 2025\n",
    "age = current_year - birth_year\n",
    "\n",
    "print(\"Hello,\", name)\n",
    "print(\"You are\", age, \"years old.\")"
   ]
  },
  {
   "cell_type": "markdown",
   "id": "5f065165",
   "metadata": {},
   "source": [
    "### 2. Extract Car Names"
   ]
  },
  {
   "cell_type": "code",
   "execution_count": 32,
   "id": "f3740ae2",
   "metadata": {},
   "outputs": [
    {
     "name": "stdout",
     "output_type": "stream",
     "text": [
      "Lasetti\n",
      "Malibu\n"
     ]
    }
   ],
   "source": [
    "txt = 'LMaasleitbtui'\n",
    "print(txt[0::2])\n",
    "print(txt[1::2])"
   ]
  },
  {
   "cell_type": "markdown",
   "id": "0b611827",
   "metadata": {},
   "source": [
    "### 3. Extract Car Names"
   ]
  },
  {
   "cell_type": "code",
   "execution_count": 33,
   "id": "d75da386",
   "metadata": {},
   "outputs": [
    {
     "name": "stdout",
     "output_type": "stream",
     "text": [
      "Matiz\n",
      "Damas\n"
     ]
    }
   ],
   "source": [
    "txt = 'MsaatmiazD'\n",
    "print(txt[0::2])\n",
    "print(txt[-1::-2])"
   ]
  },
  {
   "cell_type": "markdown",
   "id": "d42474da",
   "metadata": {},
   "source": [
    "### 4. Extract Residence Area"
   ]
  },
  {
   "cell_type": "code",
   "execution_count": 35,
   "id": "670643cc",
   "metadata": {},
   "outputs": [
    {
     "name": "stdout",
     "output_type": "stream",
     "text": [
      "London\n"
     ]
    }
   ],
   "source": [
    "txt = \"I'am John. I am from London\"\n",
    "print(txt[21::])"
   ]
  },
  {
   "cell_type": "markdown",
   "id": "a54fe085",
   "metadata": {},
   "source": [
    "### 5. Reverse String"
   ]
  },
  {
   "cell_type": "code",
   "execution_count": 37,
   "id": "121d0b25",
   "metadata": {},
   "outputs": [
    {
     "name": "stdout",
     "output_type": "stream",
     "text": [
      "rood\n"
     ]
    }
   ],
   "source": [
    "text = input(\"Enter a string: \")\n",
    "\n",
    "print(text[::-1])"
   ]
  },
  {
   "cell_type": "markdown",
   "id": "b1748424",
   "metadata": {},
   "source": [
    "### 6. Count Vowels"
   ]
  },
  {
   "cell_type": "code",
   "execution_count": 38,
   "id": "8a0c1e97",
   "metadata": {},
   "outputs": [
    {
     "name": "stdout",
     "output_type": "stream",
     "text": [
      "Number of vowels: 2\n"
     ]
    }
   ],
   "source": [
    "text = input(\"Enter a string: \")\n",
    "\n",
    "vowels = \"aeiouAEIOU\"\n",
    "\n",
    "count = sum(1 for char in text if char in vowels)\n",
    "\n",
    "print(\"Number of vowels:\", count)"
   ]
  },
  {
   "cell_type": "markdown",
   "id": "876c74bc",
   "metadata": {},
   "source": [
    "### 7. Find Maximum Value"
   ]
  },
  {
   "cell_type": "code",
   "execution_count": 39,
   "id": "ac7d28e5",
   "metadata": {},
   "outputs": [
    {
     "name": "stdout",
     "output_type": "stream",
     "text": [
      "9\n"
     ]
    }
   ],
   "source": [
    "numbers = list(map(int, input(\"Enter numbers separated by spaces: \").split()))\n",
    "\n",
    "print(max(numbers))"
   ]
  },
  {
   "cell_type": "markdown",
   "id": "57350266",
   "metadata": {},
   "source": [
    "### 8. Check Palindrome"
   ]
  },
  {
   "cell_type": "code",
   "execution_count": 43,
   "id": "0fe11669",
   "metadata": {},
   "outputs": [
    {
     "name": "stdout",
     "output_type": "stream",
     "text": [
      "False\n"
     ]
    }
   ],
   "source": [
    "word = input(\"Enter a word: \")\n",
    "print(word == word[::-1])"
   ]
  },
  {
   "cell_type": "markdown",
   "id": "1fde874c",
   "metadata": {},
   "source": [
    "### 9. Extract Email Domain"
   ]
  },
  {
   "cell_type": "code",
   "execution_count": 44,
   "id": "7b0b6dd5",
   "metadata": {},
   "outputs": [
    {
     "name": "stdout",
     "output_type": "stream",
     "text": [
      "gmail.com\n"
     ]
    }
   ],
   "source": [
    "email = input(\"Enter your email: \")\n",
    "\n",
    "domain = email.split(\"@\")[1]\n",
    "\n",
    "print(domain)"
   ]
  },
  {
   "cell_type": "markdown",
   "id": "4bd63df7",
   "metadata": {},
   "source": [
    "### 10. Generate Random Password"
   ]
  },
  {
   "cell_type": "code",
   "execution_count": 90,
   "id": "7f1a88d6",
   "metadata": {},
   "outputs": [
    {
     "name": "stdout",
     "output_type": "stream",
     "text": [
      "UZK9_]>d\n"
     ]
    }
   ],
   "source": [
    "import random\n",
    "import string\n",
    "\n",
    "length = 8  \n",
    "\n",
    "characters = string.ascii_letters + string.digits + string.punctuation\n",
    "\n",
    "password = \"\".join(random.choices(characters, k=length))\n",
    "\n",
    "print(password)"
   ]
  }
 ],
 "metadata": {
  "kernelspec": {
   "display_name": "Python 3",
   "language": "python",
   "name": "python3"
  },
  "language_info": {
   "codemirror_mode": {
    "name": "ipython",
    "version": 3
   },
   "file_extension": ".py",
   "mimetype": "text/x-python",
   "name": "python",
   "nbconvert_exporter": "python",
   "pygments_lexer": "ipython3",
   "version": "3.12.9"
  }
 },
 "nbformat": 4,
 "nbformat_minor": 5
}
